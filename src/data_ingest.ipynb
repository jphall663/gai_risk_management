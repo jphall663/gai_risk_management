{
 "cells": [
  {
   "cell_type": "code",
   "execution_count": 9,
   "id": "258a28b9-141a-4ff6-bf48-e4aa38834b47",
   "metadata": {},
   "outputs": [],
   "source": [
    "import pickle\n",
    "import numpy as np\n",
    "import os\n",
    "import pandas as pd\n",
    "\n",
    "# show everything\n",
    "pd.set_option('display.max_columns', None)\n",
    "pd.set_option('display.max_rows', None)\n",
    "pd.set_option('display.max_colwidth', None)"
   ]
  },
  {
   "cell_type": "code",
   "execution_count": 10,
   "id": "d98b27e0-3491-4820-9ad2-4d961aff12cb",
   "metadata": {
    "scrolled": true
   },
   "outputs": [
    {
     "name": "stdout",
     "output_type": "stream",
     "text": [
      "data.pkl\n",
      "evals.csv\n",
      "evaluation_by_gai_risk.csv\n",
      "gai_risk.csv\n",
      "gai_risk_to_tc_map.pkl\n",
      "high_risk_manage_by_tc.csv\n",
      "high_risk_measure_by_tc.csv\n",
      "low_risk_manage_by_tc.csv\n",
      "low_risk_measure_by_tc.csv\n",
      "manage_by_tc.csv\n",
      "med_risk_manage_by_tc.csv\n",
      "med_risk_measure_by_tc.csv\n",
      "prompting_strategies.csv\n",
      "rt_strategies_goals_by_gai_risk.csv\n",
      "rt_strategies_goals_by_tc.csv\n",
      "tc_gai_risk_crosswalk.csv\n",
      "tc_to_gai_risk_map.pkl\n"
     ]
    }
   ],
   "source": [
    "data_files = sorted(os.listdir('..' + os.sep + 'data'))\n",
    "for file in data_files:\n",
    "    print(file)"
   ]
  },
  {
   "cell_type": "code",
   "execution_count": 11,
   "id": "0cdbfa13-a25e-4953-b589-b255283af392",
   "metadata": {},
   "outputs": [],
   "source": [
    "frame_dict = {}\n",
    "for file in data_files:\n",
    "    if not file.endswith('.pkl'):\n",
    "        key_ = file.split('.')[0]\n",
    "        frame_dict[key_] = pd.read_csv('../data' + os.sep + file)\n",
    "        if 'Unnamed: 0' in frame_dict[key_].columns:\n",
    "            frame_dict[key_] = frame_dict[key_].drop('Unnamed: 0', axis=1)\n",
    "        if frame_dict[key_].isnull().any().any():\n",
    "            frame_dict[key_] = frame_dict[key_].replace(np.nan, '')"
   ]
  },
  {
   "cell_type": "code",
   "execution_count": 12,
   "id": "3d853a2c-1dad-4c02-b5b3-85b17b4b7924",
   "metadata": {},
   "outputs": [],
   "source": [
    "with open('..' + os.sep + 'data' + os.sep + 'data.pkl', 'wb') as fp:\n",
    "    pickle.dump(frame_dict, fp, protocol=pickle.HIGHEST_PROTOCOL)"
   ]
  }
 ],
 "metadata": {
  "kernelspec": {
   "display_name": "Python 3 (ipykernel)",
   "language": "python",
   "name": "python3"
  },
  "language_info": {
   "codemirror_mode": {
    "name": "ipython",
    "version": 3
   },
   "file_extension": ".py",
   "mimetype": "text/x-python",
   "name": "python",
   "nbconvert_exporter": "python",
   "pygments_lexer": "ipython3",
   "version": "3.8.16"
  }
 },
 "nbformat": 4,
 "nbformat_minor": 5
}
